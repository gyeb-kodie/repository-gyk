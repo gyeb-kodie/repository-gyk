{
 "cells": [
  {
   "cell_type": "markdown",
   "id": "766a4c53-5596-4e39-9082-8e97c8e59c41",
   "metadata": {},
   "source": [
    "# Homework 7\n",
    "This homework is based on the advanced Git lectures. "
   ]
  },
  {
   "cell_type": "markdown",
   "id": "bbb6e943-d49a-4d2e-81f3-59c2d1a3be31",
   "metadata": {},
   "source": [
    "## Question 1\n",
    "#### What is the holy trinity of Git? (Just name the parts.)\n",
    "\n",
    "The holy trinity of Git consists of: the branch (\"head\" or history), the working copy (\"tree\"), and the staging area."
   ]
  },
  {
   "cell_type": "markdown",
   "id": "47bc27c0-290e-4e94-a071-a37ff613a7c8",
   "metadata": {},
   "source": [
    "## Question 2\n",
    "#### Explain how patches relate to the idea of committing a change to the history of your code?\n",
    "\n",
    "A patch applies a diff (the changes made), transferring from a previous version of the code to the next one. In pushing a commit, one applies a patch."
   ]
  },
  {
   "cell_type": "markdown",
   "id": "9aa99e0b-8fbe-4ccc-a728-b39b1fda153c",
   "metadata": {},
   "source": [
    "## Question 3\n",
    "#### What is the difference between a branch and a fork?\n",
    "\n",
    "A branch is a series of commits, or a commit and its \"ancestors,\" or a history of patches. At a fork, in contrast, the branch diverges into 2, creating a new repo where the project can be worked on.\n"
   ]
  },
  {
   "cell_type": "markdown",
   "id": "c6ac98c7-e4ea-4274-a88d-398cb739fab9",
   "metadata": {},
   "source": [
    "## Question 4\n",
    "#### How are diff and patch related? What’s the difference?\n",
    "\n",
    "Diff and patch are closely related: The diff is the command line tool encoding the actual difference between the working copy and the history. The patch is what applies that difference to a new file.\n"
   ]
  },
  {
   "cell_type": "markdown",
   "id": "02988321-54d5-4086-a62f-d6f7a5961c22",
   "metadata": {},
   "source": [
    "## Question 5\n",
    "#### See the diagram below.\n",
    "```\n",
    "alice            *-*-*-*-d-e     \n",
    "bob              *-*-*-*-a-b-c\n",
    "origin/main      *-*-*-*-a-b-c\n",
    "```\n",
    "#### a) What part of the Git trininty does each line represent?\n",
    "\n",
    "Each line is a branch topped off by the head.\n",
    "\n",
    "#### b) What would the result be if Alice performed a rebase? Edit the diagram. What would she type in the terminal to rebase, then push?\n",
    "\n",
    "If Alice performed a rebase, her additions would temporarily be hidden, allowing her to then match that of the origin/main branch, to which she can then add her additions. She would type: \n",
    " \n",
    "  git rebase origin/main\n",
    "  git push --force\n",
    "\n",
    "```\n",
    "alice            *-*-*-*-a-b-c-d'-e'   \n",
    "bob              *-*-*-*-a-b-c\n",
    "origin/main      *-*-*-*-a-b-c-d'-e'\n",
    "```\n",
    "\n",
    "#### c) What would the result be if Alice performed a merge? Edit the diagram. What would she type in the terminal to merge, then push?\n",
    "\n",
    "If Alice performed a merge, her additions would be added to the top of the origin/main branch, which causes issues for Bob. She would type:\n",
    "  \n",
    "  git merge alice/branch\n",
    "  git push origin/main\n",
    "\n",
    "```\n",
    "alice            *-*-*-*-d-e-a-b-c     \n",
    "bob              *-*-*-*-a-b-c\n",
    "origin/main      *-*-*-*-d-e-a-b-c\n",
    "```\n",
    "#### d) Which would be the better option (rebase vs. merge)? Why?\n",
    "\n",
    "Rebase would be the far better option in this multi-collaborator situation. This is more respectful, as it does not upset Bob's work which now matches the main branch, but still integrates the work of both Alice and Bob.\n"
   ]
  },
  {
   "cell_type": "markdown",
   "id": "65b5eb8a-cee0-4a97-b89c-8746c37669ea",
   "metadata": {},
   "source": [
    "## Question 6\n",
    "#### Match the command/vocab word to the description.\n",
    "You can edit the table!\n",
    "\n",
    "| Command / Vocab     | Answer | Description |\n",
    "|---------------------|------------|------------|\n",
    "| git stash          |  | B.  Takes any changes that haven't been committed and puts them in a dust bin  |\n",
    "| git push           |  | J.  Pushes the new commits to the main branch |\n",
    "| git clone          |  | N.  Makes a copy of an existing repo at in a new directory at another location  |\n",
    "| git commit         |  | M.  Saves file changes to the main branch  |\n",
    "| git log            |  |  A.  Gives project history  |\n",
    "| git add -i         | | K.  Interactive staging!  |\n",
    "| git rebase         |  | P.  Combines branches by moving commits onto the tip of another branch, creating a linear history  |\n",
    "| git init           |  | Q. Creates a new git repository  |\n",
    "| git checkout       |  | E.  Moves something from the branch to the working copy |\n",
    "| git status         |  | F.  Lists which files are staged, unstaged, and untracked |\n",
    "| git diff           |  | O.  Compares current, unsaved changes to the main branch |\n",
    "| git merge          |  | H.  Combines two branches together in a way that is not ideal for your collaborators  |\n",
    "| git add            |  | I.  Adds changes from the working directory to the staging area |\n",
    "| git pull           |  | D.  Retrieves any commits on the remote branch that you don’t yet have locally and integrates them into your current branch |\n",
    "| git show           |  | G.  Displays information about a specific commit  |\n",
    "| git blame          |  | C.  Shows who last modified each line of a file and in which commit |\n",
    "| .gitignore         |  | L.  Text file that contains names of files Git should not track |"
   ]
  },
  {
   "cell_type": "markdown",
   "id": "36663f18-7e8a-4400-86ef-1cbda6b508c1",
   "metadata": {},
   "source": [
    "## Question 7\n",
    "#### Walk me through how you would do interactive staging.\n",
    "#### a) Firstly, what situation would interactive staging be useful in?\n",
    "\n",
    "Use interactive staging when it's useful to not have to push a commit every few lines of code. It allows you to strategically create a series of commits so that each one represents a different intention.\n",
    "\n",
    "#### b) What command(s) help you prepare for what you'll see while interactive staging? \n",
    "*Hint*: Check the TA notes.\n",
    "\n",
    "cd ~/<repo>\n",
    "  git status\n",
    "git diff \n",
    "\n",
    "git add -i\n",
    "\n",
    "#### b) What git command would you use to start interactive staging?\n",
    "\n",
    "git add -i\n",
    "\n",
    "#### c) On the text-based interactive menu, what option do you use?\n",
    "\n",
    "Press [p] (patch).\n",
    "\n",
    "#### d) After pressing that option, how do you select the file you want to stage?\n",
    "\n",
    "First type the number of the file, then select option.\n",
    "\n",
    "#### e) What option do you type if you do not want to stage a hunk?\n",
    "\n",
    "Press [n] (do not stage this hunk).\n",
    "\n",
    "#### f) Once you get to a hunk you want to stage, what do you do?\n",
    "\n",
    "Press [y] (stage this hunk).\n",
    "\n",
    "#### g) What if we have more hunks we want to stage?\n",
    "\n",
    "Type: git commit -m \"message here\" to stage more hunks in the same interactive staging session.\n",
    "\n",
    "then Control D to exit interactive staging, and say git status, we'll see that the file we have edited is in the changes to be committed. If we don't stage all changes, then the same file also shows up in the untracked files. Now, we'll make a commit.\n",
    "\n",
    "git commit -m \"Your message here\"\n",
    "Then, you can continue staging remaining hunks in a new interactive session by starting it over. When the whole process is done, you can do git push -u origin main\n"
   ]
  }
 ],
 "metadata": {
  "kernelspec": {
   "display_name": "Python 3 (ipykernel)",
   "language": "python",
   "name": "python3"
  },
  "language_info": {
   "codemirror_mode": {
    "name": "ipython",
    "version": 3
   },
   "file_extension": ".py",
   "mimetype": "text/x-python",
   "name": "python",
   "nbconvert_exporter": "python",
   "pygments_lexer": "ipython3",
   "version": "3.10.18"
  }
 },
 "nbformat": 4,
 "nbformat_minor": 5
}
